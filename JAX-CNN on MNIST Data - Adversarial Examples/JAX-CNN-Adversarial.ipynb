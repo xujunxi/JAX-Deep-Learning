{
 "cells": [
  {
   "cell_type": "markdown",
   "metadata": {
    "colab_type": "text",
    "id": "pxMUmlEENLXc"
   },
   "source": [
    "Let's first get the imports out of the way."
   ]
  },
  {
   "cell_type": "code",
   "execution_count": 0,
   "metadata": {
    "colab": {},
    "colab_type": "code",
    "id": "v0yDWKUrCBiX"
   },
   "outputs": [],
   "source": [
    "import array\n",
    "import gzip\n",
    "import itertools\n",
    "import numpy\n",
    "import numpy.random as npr\n",
    "import os\n",
    "import struct\n",
    "import time\n",
    "from os import path\n",
    "import urllib.request\n",
    "\n",
    "import jax.numpy as np\n",
    "from jax.api import jit, grad\n",
    "from jax.config import config\n",
    "from jax.scipy.special import logsumexp\n",
    "from jax import random\n",
    "import matplotlib.pyplot as plt"
   ]
  },
  {
   "cell_type": "markdown",
   "metadata": {
    "colab_type": "text",
    "id": "nIp--T57NGrU"
   },
   "source": [
    "The following cell contains boilerplate code to download and load MNIST data."
   ]
  },
  {
   "cell_type": "code",
   "execution_count": 2,
   "metadata": {
    "colab": {
     "base_uri": "https://localhost:8080/",
     "height": 85
    },
    "colab_type": "code",
    "id": "Du24u5vtDEIn",
    "outputId": "41ae79a8-0d89-4edf-e5b5-7ac71a8a8dbe"
   },
   "outputs": [
    {
     "name": "stdout",
     "output_type": "stream",
     "text": [
      "downloaded https://storage.googleapis.com/cvdf-datasets/mnist/train-images-idx3-ubyte.gz to /tmp/\n",
      "downloaded https://storage.googleapis.com/cvdf-datasets/mnist/train-labels-idx1-ubyte.gz to /tmp/\n",
      "downloaded https://storage.googleapis.com/cvdf-datasets/mnist/t10k-images-idx3-ubyte.gz to /tmp/\n",
      "downloaded https://storage.googleapis.com/cvdf-datasets/mnist/t10k-labels-idx1-ubyte.gz to /tmp/\n"
     ]
    }
   ],
   "source": [
    "_DATA = \"/tmp/\"\n",
    "\n",
    "def _download(url, filename):\n",
    "  \"\"\"Download a url to a file in the JAX data temp directory.\"\"\"\n",
    "  if not path.exists(_DATA):\n",
    "    os.makedirs(_DATA)\n",
    "  out_file = path.join(_DATA, filename)\n",
    "  if not path.isfile(out_file):\n",
    "    urllib.request.urlretrieve(url, out_file)\n",
    "    print(\"downloaded {} to {}\".format(url, _DATA))\n",
    "\n",
    "\n",
    "def _partial_flatten(x):\n",
    "  \"\"\"Flatten all but the first dimension of an ndarray.\"\"\"\n",
    "  return numpy.reshape(x, (x.shape[0], -1))\n",
    "\n",
    "\n",
    "def _one_hot(x, k, dtype=numpy.float32):\n",
    "  \"\"\"Create a one-hot encoding of x of size k.\"\"\"\n",
    "  return numpy.array(x[:, None] == numpy.arange(k), dtype)\n",
    "\n",
    "\n",
    "def mnist_raw():\n",
    "  \"\"\"Download and parse the raw MNIST dataset.\"\"\"\n",
    "  # CVDF mirror of http://yann.lecun.com/exdb/mnist/\n",
    "  base_url = \"https://storage.googleapis.com/cvdf-datasets/mnist/\"\n",
    "\n",
    "  def parse_labels(filename):\n",
    "    with gzip.open(filename, \"rb\") as fh:\n",
    "      _ = struct.unpack(\">II\", fh.read(8))\n",
    "      return numpy.array(array.array(\"B\", fh.read()), dtype=numpy.uint8)\n",
    "\n",
    "  def parse_images(filename):\n",
    "    with gzip.open(filename, \"rb\") as fh:\n",
    "      _, num_data, rows, cols = struct.unpack(\">IIII\", fh.read(16))\n",
    "      return numpy.array(array.array(\"B\", fh.read()),\n",
    "                      dtype=numpy.uint8).reshape(num_data, rows, cols)\n",
    "\n",
    "  for filename in [\"train-images-idx3-ubyte.gz\", \"train-labels-idx1-ubyte.gz\",\n",
    "                   \"t10k-images-idx3-ubyte.gz\", \"t10k-labels-idx1-ubyte.gz\"]:\n",
    "    _download(base_url + filename, filename)\n",
    "\n",
    "  train_images = parse_images(path.join(_DATA, \"train-images-idx3-ubyte.gz\"))\n",
    "  train_labels = parse_labels(path.join(_DATA, \"train-labels-idx1-ubyte.gz\"))\n",
    "  test_images = parse_images(path.join(_DATA, \"t10k-images-idx3-ubyte.gz\"))\n",
    "  test_labels = parse_labels(path.join(_DATA, \"t10k-labels-idx1-ubyte.gz\"))\n",
    "\n",
    "  return train_images, train_labels, test_images, test_labels\n",
    "\n",
    "\n",
    "def mnist(create_outliers=False):\n",
    "  \"\"\"Download, parse and process MNIST data to unit scale and one-hot labels.\"\"\"\n",
    "  train_images, train_labels, test_images, test_labels = mnist_raw()\n",
    "\n",
    "  train_images = _partial_flatten(train_images) / numpy.float32(255.)\n",
    "  test_images = _partial_flatten(test_images) / numpy.float32(255.)\n",
    "  train_labels = _one_hot(train_labels, 10)\n",
    "  test_labels = _one_hot(test_labels, 10)\n",
    "\n",
    "  if create_outliers:\n",
    "    mum_outliers = 30000\n",
    "    perm = numpy.random.RandomState(0).permutation(mum_outliers)\n",
    "    train_images[:mum_outliers] = train_images[:mum_outliers][perm]\n",
    "\n",
    "  return train_images, train_labels, test_images, test_labels\n",
    "\n",
    "def shape_as_image(images, labels, dummy_dim=False):\n",
    "  target_shape = (-1, 1, 28, 28, 1) if dummy_dim else (-1, 28, 28, 1)\n",
    "  return np.reshape(images, target_shape), labels\n",
    "\n",
    "train_images, train_labels, test_images, test_labels = mnist(create_outliers=False)\n",
    "num_train = train_images.shape[0]"
   ]
  },
  {
   "cell_type": "markdown",
   "metadata": {
    "colab_type": "text",
    "id": "LdTKppnqIHeV"
   },
   "source": [
    "# **Problem 1**\n",
    "\n",
    "This function computes the output of a fully-connected neural network (i.e., multilayer perceptron) by iterating over all of its layers and:\n",
    "\n",
    "1. taking the `activations` of the previous layer (or the input itself for the first hidden layer) to compute the `outputs` of a linear classifier. Recall the lectures: `outputs` is what we wrote $z=w\\cdot x + b$ where $x$ is the input to the linear classifier. \n",
    "2. applying a non-linear activation. Here we will use $tanh$.\n",
    "\n",
    "Complete the following cell to compute `outputs` and `activations`. "
   ]
  },
  {
   "cell_type": "code",
   "execution_count": 0,
   "metadata": {
    "colab": {},
    "colab_type": "code",
    "id": "PGU4xK-iHjhx"
   },
   "outputs": [],
   "source": [
    "def predict(params, inputs):\n",
    "  activations = inputs\n",
    "  for w, b in params[:-1]:  #iterate through each layer\n",
    "    outputs = np.dot(activations, w) + b\n",
    "    activations = np.tanh(outputs)\n",
    "\n",
    "  final_w, final_b = params[-1]\n",
    "  logits = np.dot(activations, final_w) + final_b #Return a matrix, each vector is one sample\n",
    "  return logits - logsumexp(logits, axis=1, keepdims=True) #Return a matrix, contains different vectors, each vector has element with log-logsum"
   ]
  },
  {
   "cell_type": "markdown",
   "metadata": {
    "colab_type": "text",
    "id": "UgE_NBb9JNDI"
   },
   "source": [
    "The following cell computes the loss of our model. Here we are using cross-entropy combined with a softmax but the implementation uses the `LogSumExp` trick for numerical stability. This is why our previous function `predict` returns the logits to which we substract the `logsumexp` of logits. We discussed this in class but you can read more about it [here](https://blog.feedly.com/tricks-of-the-trade-logsumexp/).\n",
    "\n",
    "Complete the return line. Recall that the loss is defined as :\n",
    "$$ l(X, Y) = -\\frac{1}{n} \\sum_{i\\in 1..n}  \\sum_{j\\in 1.. K}y_j^{(i)} \\log(f_j(x^{(i)})) = -\\frac{1}{n} \\sum_{i\\in 1..n}  \\sum_{j\\in 1.. K}y_j^{(i)} \\log\\left(\\frac{z_j^{(i)}}{\\sum_{k\\in 1..K}z_k^{(i)}}\\right) $$\n",
    "where $X$ is a matrix containing a batch of $n$ training inputs, and $Y$ a matrix containing a batch of one-hot encoded labels defined over $K$ labels. Here $z_j^{(i)}$ is the logits (i.e., input to the softmax) of the model on the example $i$ of our batch of training examples $X$."
   ]
  },
  {
   "cell_type": "code",
   "execution_count": 0,
   "metadata": {
    "colab": {},
    "colab_type": "code",
    "id": "JlgdP72hH9ly"
   },
   "outputs": [],
   "source": [
    "def loss(params, batch):\n",
    "  inputs, targets = batch\n",
    "  preds = predict(params, inputs)\n",
    "  return -np.mean(np.sum(preds * targets, axis=1)) #-np.mean(np.sum(preds * targets, axis=1))"
   ]
  },
  {
   "cell_type": "markdown",
   "metadata": {
    "colab_type": "text",
    "id": "ILZ-q5PTMohU"
   },
   "source": [
    "The following cell defines the accuracy of our model and how to initialize its parameters. "
   ]
  },
  {
   "cell_type": "code",
   "execution_count": 0,
   "metadata": {
    "colab": {},
    "colab_type": "code",
    "id": "UDjCuIGzIAjf"
   },
   "outputs": [],
   "source": [
    "def accuracy(params, batch):\n",
    "  inputs, targets = batch\n",
    "  target_class = np.argmax(targets, axis=1)\n",
    "  predicted_class = np.argmax(predict(params, inputs), axis=1)\n",
    "  return np.mean(predicted_class == target_class) #Return the % of same classes\n",
    "\n",
    "def init_random_params(layer_sizes, rng=npr.RandomState(0)): #Layer sizes contain number of neurons in each layer\n",
    "  scale = 0.1\n",
    "  return [(scale * rng.randn(m, n), scale * rng.randn(n))\n",
    "          for m, n, in zip(layer_sizes[:-1], layer_sizes[1:])]"
   ]
  },
  {
   "cell_type": "markdown",
   "metadata": {
    "colab_type": "text",
    "id": "as46_qd5NWMA"
   },
   "source": [
    "The following line defines our architecture with the number of neurons contained in each fully-connected layer (the first layer has 784 neurons because MNIST images are 28*28=784 pixels and the last layer has 10 neurons because MNIST has 10 classes)"
   ]
  },
  {
   "cell_type": "code",
   "execution_count": 0,
   "metadata": {
    "colab": {},
    "colab_type": "code",
    "id": "MZzv-4dHNV4D"
   },
   "outputs": [],
   "source": [
    "layer_sizes = [784, 1024, 128, 10]"
   ]
  },
  {
   "cell_type": "markdown",
   "metadata": {
    "colab_type": "text",
    "id": "PKroKJ6TOETY"
   },
   "source": [
    "The following cell creates a Python generator for our dataset. It outputs one batch of $n$ training examples at a time. "
   ]
  },
  {
   "cell_type": "code",
   "execution_count": 0,
   "metadata": {
    "colab": {},
    "colab_type": "code",
    "id": "_6lLT1klOMIn"
   },
   "outputs": [],
   "source": [
    "batch_size = 128\n",
    "num_complete_batches, leftover = divmod(num_train, batch_size) #num_train = 60000, batch_size = 128, returns quotient and remainder. 468, 96\n",
    "num_batches = num_complete_batches + bool(leftover) #num_batches = 469\n",
    "\n",
    "def data_stream():\n",
    "  rng = npr.RandomState(0)\n",
    "  while True:\n",
    "    perm = rng.permutation(num_train) #1-60000 randomly permutate\n",
    "    for i in range(num_batches): #in range(469)\n",
    "      batch_idx = perm[i * batch_size:(i + 1) * batch_size] #take 128 samples\n",
    "      yield train_images[batch_idx], train_labels[batch_idx]\n",
    "batches = data_stream()"
   ]
  },
  {
   "cell_type": "markdown",
   "metadata": {
    "colab_type": "text",
    "id": "Lm-UbcYZOOci"
   },
   "source": [
    "We are now ready to define our optimizer. Here we use mini-batch stochastic gradient descent. Complete `<w UPDATE RULE>` and `<b UPDATE RULE>` using the update rule we saw in class. Recall that `dw` is the partial derivative of the `loss` with respect to `w` and `learning_rate` is the learning rate of gradient descent. "
   ]
  },
  {
   "cell_type": "code",
   "execution_count": 0,
   "metadata": {
    "colab": {},
    "colab_type": "code",
    "id": "Z8EktCm-OvFh"
   },
   "outputs": [],
   "source": [
    "learning_rate = 0.1\n",
    "\n",
    "@jit\n",
    "def update(params, batch):\n",
    "  grads = grad(loss)(params, batch)\n",
    "  return [(w - learning_rate * dw, b - learning_rate * db)\n",
    "          for (w, b), (dw, db) in zip(params, grads)]"
   ]
  },
  {
   "cell_type": "markdown",
   "metadata": {
    "colab_type": "text",
    "id": "Tqo4M7uNOvzo"
   },
   "source": [
    "This is now the proper training loop for our fully-connected neural network. "
   ]
  },
  {
   "cell_type": "code",
   "execution_count": 9,
   "metadata": {
    "colab": {
     "base_uri": "https://localhost:8080/",
     "height": 527
    },
    "colab_type": "code",
    "id": "fgrHTrafDHAE",
    "outputId": "7b242200-9e30-4387-e181-f1e6ad96b619"
   },
   "outputs": [
    {
     "name": "stdout",
     "output_type": "stream",
     "text": [
      "Epoch 0 in 3.87 sec\n",
      "Training set accuracy 0.9401500225067139\n",
      "Test set accuracy 0.9377000331878662\n",
      "Epoch 1 in 0.46 sec\n",
      "Training set accuracy 0.9592833518981934\n",
      "Test set accuracy 0.95250004529953\n",
      "Epoch 2 in 0.46 sec\n",
      "Training set accuracy 0.9681666493415833\n",
      "Test set accuracy 0.9607000350952148\n",
      "Epoch 3 in 0.44 sec\n",
      "Training set accuracy 0.9759166836738586\n",
      "Test set accuracy 0.9663000702857971\n",
      "Epoch 4 in 0.50 sec\n",
      "Training set accuracy 0.9795500040054321\n",
      "Test set accuracy 0.9676000475883484\n",
      "Epoch 5 in 0.46 sec\n",
      "Training set accuracy 0.982616662979126\n",
      "Test set accuracy 0.970300018787384\n",
      "Epoch 6 in 0.46 sec\n",
      "Training set accuracy 0.9865833520889282\n",
      "Test set accuracy 0.9716000556945801\n",
      "Epoch 7 in 0.46 sec\n",
      "Training set accuracy 0.9892333149909973\n",
      "Test set accuracy 0.9736000299453735\n",
      "Epoch 8 in 0.45 sec\n",
      "Training set accuracy 0.9911666512489319\n",
      "Test set accuracy 0.9741000533103943\n",
      "Epoch 9 in 0.46 sec\n",
      "Training set accuracy 0.992983341217041\n",
      "Test set accuracy 0.9746000170707703\n"
     ]
    }
   ],
   "source": [
    "num_epochs = 10\n",
    "params = init_random_params(layer_sizes)\n",
    "for epoch in range(num_epochs):\n",
    "  start_time = time.time()\n",
    "  for _ in range(num_batches):\n",
    "    params = update(params, next(batches)) #next() returns the next iterm from iteration\n",
    "  epoch_time = time.time() - start_time\n",
    "\n",
    "  train_acc = accuracy(params, (train_images, train_labels))\n",
    "  test_acc = accuracy(params, (test_images, test_labels))\n",
    "  print(\"Epoch {} in {:0.2f} sec\".format(epoch, epoch_time))\n",
    "  print(\"Training set accuracy {}\".format(train_acc))\n",
    "  print(\"Test set accuracy {}\".format(test_acc))"
   ]
  },
  {
   "cell_type": "markdown",
   "metadata": {
    "colab_type": "text",
    "id": "s9yFvjncWk8G"
   },
   "source": [
    "# **Problem 2**\n",
    "\n",
    "Before we get started, we need to import two small libraries that contain boilerplate code for common neural network layer types and for optimizers like mini-batch SGD."
   ]
  },
  {
   "cell_type": "code",
   "execution_count": 0,
   "metadata": {
    "colab": {},
    "colab_type": "code",
    "id": "tvLxNfXtXCRb"
   },
   "outputs": [],
   "source": [
    "from jax.experimental import optimizers\n",
    "from jax.experimental import stax"
   ]
  },
  {
   "cell_type": "markdown",
   "metadata": {
    "colab_type": "text",
    "id": "nNwMlXqfXI8G"
   },
   "source": [
    "Here is a fully-connected neural network architecture, like the one of Problem 1, but this time defined with `stax`"
   ]
  },
  {
   "cell_type": "code",
   "execution_count": 0,
   "metadata": {
    "colab": {},
    "colab_type": "code",
    "id": "Y4wu1XqFds4X"
   },
   "outputs": [],
   "source": [
    "init_random_params, predict = stax.serial(\n",
    "    stax.Flatten,\n",
    "    stax.Dense(1024),\n",
    "    stax.Relu,\n",
    "    stax.Dense(128),\n",
    "    stax.Relu,\n",
    "    stax.Dense(10),\n",
    ")"
   ]
  },
  {
   "cell_type": "markdown",
   "metadata": {
    "colab_type": "text",
    "id": "nEW_OcOCdwFX"
   },
   "source": [
    "We redefine the cross-entropy loss for this model. As done in Problem 1, complete the return line below (it's identical). "
   ]
  },
  {
   "cell_type": "code",
   "execution_count": 0,
   "metadata": {
    "colab": {},
    "colab_type": "code",
    "id": "zQEeOtAEdvYn"
   },
   "outputs": [],
   "source": [
    "def loss(params, batch):\n",
    "  inputs, targets = batch\n",
    "  logits = predict(params, inputs)\n",
    "  preds  = stax.logsoftmax(logits)\n",
    "  return -np.mean(np.sum(preds * targets, axis=1))"
   ]
  },
  {
   "cell_type": "markdown",
   "metadata": {
    "colab_type": "text",
    "id": "8ZBxTvCweJbN"
   },
   "source": [
    "Next, we define the mini-batch SGD optimizer, this time with the optimizers library in JAX. "
   ]
  },
  {
   "cell_type": "code",
   "execution_count": 0,
   "metadata": {
    "colab": {},
    "colab_type": "code",
    "id": "peG-cAZ0eGTG"
   },
   "outputs": [],
   "source": [
    "learning_rate = 0.15\n",
    "opt_init, opt_update, get_params = optimizers.sgd(learning_rate)\n",
    "\n",
    "@jit\n",
    "def update(_, i, opt_state, batch):\n",
    "  params = get_params(opt_state)\n",
    "  return opt_update(i, grad(loss)(params, batch), opt_state)"
   ]
  },
  {
   "cell_type": "markdown",
   "metadata": {
    "colab_type": "text",
    "id": "gVx2h8lqeoTD"
   },
   "source": [
    "The next cell contains our training loop, very similar to Problem 1. "
   ]
  },
  {
   "cell_type": "code",
   "execution_count": 14,
   "metadata": {
    "colab": {
     "base_uri": "https://localhost:8080/",
     "height": 221
    },
    "colab_type": "code",
    "id": "41Y6wwFzb-mk",
    "outputId": "ce057c44-371c-4725-d7b3-8ed5b60901f3"
   },
   "outputs": [
    {
     "name": "stdout",
     "output_type": "stream",
     "text": [
      "Test set loss, accuracy (%): (0.17, 94.92)\n",
      "Test set loss, accuracy (%): (0.12, 96.36)\n",
      "Test set loss, accuracy (%): (0.11, 96.80)\n",
      "Test set loss, accuracy (%): (0.08, 97.28)\n",
      "Test set loss, accuracy (%): (0.07, 97.70)\n",
      "Test set loss, accuracy (%): (0.07, 97.70)\n",
      "Test set loss, accuracy (%): (0.07, 97.88)\n",
      "Test set loss, accuracy (%): (0.07, 97.76)\n",
      "Test set loss, accuracy (%): (0.06, 98.02)\n",
      "Test set loss, accuracy (%): (0.06, 98.09)\n",
      "Test set loss, accuracy (%): (0.06, 98.22)\n",
      "Test set loss, accuracy (%): (0.06, 98.19)\n"
     ]
    }
   ],
   "source": [
    "num_epochs = 12\n",
    "\n",
    "key = random.PRNGKey(123)\n",
    "_, init_params = init_random_params(key, (-1, 28, 28, 1))\n",
    "opt_state = opt_init(init_params)\n",
    "itercount = itertools.count()\n",
    "\n",
    "for epoch in range(1, num_epochs + 1):\n",
    "  for _ in range(num_batches):\n",
    "    opt_state = update(key, next(itercount), opt_state, shape_as_image(*next(batches)))\n",
    "\n",
    "  params = get_params(opt_state)\n",
    "  test_acc = accuracy(params, shape_as_image(test_images, test_labels))\n",
    "  test_loss = loss(params, shape_as_image(test_images, test_labels))\n",
    "  print('Test set loss, accuracy (%): ({:.2f}, {:.2f})'.format(test_loss, 100 * test_acc))"
   ]
  },
  {
   "cell_type": "markdown",
   "metadata": {
    "colab_type": "text",
    "id": "erUkognrS-TI"
   },
   "source": [
    "### **Convnet**"
   ]
  },
  {
   "cell_type": "code",
   "execution_count": 0,
   "metadata": {
    "colab": {},
    "colab_type": "code",
    "id": "NAD1OEf5TC0a"
   },
   "outputs": [],
   "source": [
    "init_random_params, predict = stax.serial(\n",
    "    stax.Conv(out_chan=12, filter_shape=(5, 5), strides=(1, 1)),\n",
    "    stax.Relu,\n",
    "    stax.MaxPool(window_shape=(2, 2)),\n",
    "    stax.Conv(out_chan=16, filter_shape=(5, 5), strides=(1, 1)),\n",
    "    stax.Relu,\n",
    "    stax.MaxPool(window_shape=(2, 2)),\n",
    "    stax.Flatten,\n",
    "    stax.Dense(120),\n",
    "    stax.Relu,\n",
    "    stax.Dense(84),\n",
    "    stax.Relu,\n",
    "    stax.Dense(10)\n",
    ")"
   ]
  },
  {
   "cell_type": "code",
   "execution_count": 0,
   "metadata": {
    "colab": {},
    "colab_type": "code",
    "id": "QUwGXsJpTE89"
   },
   "outputs": [],
   "source": [
    "def loss(params, batch):\n",
    "  inputs, targets = batch\n",
    "  logits = predict(params, inputs)\n",
    "  preds  = stax.logsoftmax(logits)\n",
    "  return -np.mean(np.sum(preds * targets, axis=1))\n",
    "\n",
    "def accuracy(params, batch):\n",
    "  inputs, targets = batch\n",
    "  target_class = np.argmax(targets, axis=1)\n",
    "  predicted_class = np.argmax(predict(params, inputs), axis=1)\n",
    "  return np.mean(predicted_class == target_class)"
   ]
  },
  {
   "cell_type": "code",
   "execution_count": 0,
   "metadata": {
    "colab": {},
    "colab_type": "code",
    "id": "XiX-eGstTHHI"
   },
   "outputs": [],
   "source": [
    "learning_rate = 0.06\n",
    "opt_init, opt_update, get_params = optimizers.sgd(learning_rate)\n",
    "\n",
    "@jit\n",
    "def update(_, i, opt_state, batch):\n",
    "  params = get_params(opt_state)\n",
    "  return opt_update(i, grad(loss)(params, batch), opt_state)"
   ]
  },
  {
   "cell_type": "code",
   "execution_count": 18,
   "metadata": {
    "colab": {
     "base_uri": "https://localhost:8080/",
     "height": 1000
    },
    "colab_type": "code",
    "id": "QN9_Pa6yTP1x",
    "outputId": "58ea911e-eb5e-46f0-f711-b123b3253561"
   },
   "outputs": [
    {
     "name": "stdout",
     "output_type": "stream",
     "text": [
      "Run 1\n",
      "Epoch 1 Test set loss, accuracy (%): (0.07, 97.83)\n",
      "Epoch 2 Test set loss, accuracy (%): (0.04, 98.60)\n",
      "Epoch 3 Test set loss, accuracy (%): (0.04, 98.88)\n",
      "Epoch 4 Test set loss, accuracy (%): (0.03, 98.92)\n",
      "Epoch 5 Test set loss, accuracy (%): (0.03, 98.92)\n",
      "Epoch 6 Test set loss, accuracy (%): (0.03, 99.08)\n",
      "Epoch 7 Test set loss, accuracy (%): (0.03, 99.06)\n",
      "Epoch 8 Test set loss, accuracy (%): (0.03, 99.02)\n",
      "Epoch 9 Test set loss, accuracy (%): (0.03, 99.06)\n",
      "Epoch 10 Test set loss, accuracy (%): (0.03, 99.12)\n",
      "Epoch 11 Test set loss, accuracy (%): (0.03, 98.91)\n",
      "Epoch 12 Test set loss, accuracy (%): (0.06, 98.20)\n",
      "Epoch 13 Test set loss, accuracy (%): (0.04, 98.90)\n",
      "Epoch 14 Test set loss, accuracy (%): (0.04, 98.85)\n",
      "Epoch 15 Test set loss, accuracy (%): (0.03, 99.13)\n",
      "Epoch 16 Test set loss, accuracy (%): (0.03, 99.12)\n",
      "Epoch 17 Test set loss, accuracy (%): (0.03, 99.14)\n",
      "Epoch 18 Test set loss, accuracy (%): (0.03, 99.11)\n",
      "Epoch 19 Test set loss, accuracy (%): (0.04, 99.09)\n",
      "Epoch 20 Test set loss, accuracy (%): (0.03, 99.17)\n",
      "Run 2\n",
      "Epoch 1 Test set loss, accuracy (%): (0.07, 97.78)\n",
      "Epoch 2 Test set loss, accuracy (%): (0.04, 98.49)\n",
      "Epoch 3 Test set loss, accuracy (%): (0.03, 98.86)\n",
      "Epoch 4 Test set loss, accuracy (%): (0.03, 98.86)\n",
      "Epoch 5 Test set loss, accuracy (%): (0.04, 98.70)\n",
      "Epoch 6 Test set loss, accuracy (%): (0.03, 99.02)\n",
      "Epoch 7 Test set loss, accuracy (%): (0.03, 99.01)\n",
      "Epoch 8 Test set loss, accuracy (%): (0.03, 99.03)\n",
      "Epoch 9 Test set loss, accuracy (%): (0.04, 98.72)\n",
      "Epoch 10 Test set loss, accuracy (%): (0.03, 99.03)\n",
      "Epoch 11 Test set loss, accuracy (%): (0.03, 98.87)\n",
      "Epoch 12 Test set loss, accuracy (%): (0.04, 98.68)\n",
      "Epoch 13 Test set loss, accuracy (%): (0.04, 98.89)\n",
      "Epoch 14 Test set loss, accuracy (%): (0.03, 99.06)\n",
      "Epoch 15 Test set loss, accuracy (%): (0.03, 99.08)\n",
      "Epoch 16 Test set loss, accuracy (%): (0.03, 99.13)\n",
      "Epoch 17 Test set loss, accuracy (%): (0.03, 99.19)\n",
      "Epoch 18 Test set loss, accuracy (%): (0.03, 99.11)\n",
      "Epoch 19 Test set loss, accuracy (%): (0.03, 99.08)\n",
      "Epoch 20 Test set loss, accuracy (%): (0.03, 98.99)\n",
      "Run 3\n",
      "Epoch 1 Test set loss, accuracy (%): (0.07, 97.70)\n",
      "Epoch 2 Test set loss, accuracy (%): (0.04, 98.57)\n",
      "Epoch 3 Test set loss, accuracy (%): (0.03, 98.92)\n",
      "Epoch 4 Test set loss, accuracy (%): (0.03, 98.95)\n",
      "Epoch 5 Test set loss, accuracy (%): (0.04, 98.76)\n",
      "Epoch 6 Test set loss, accuracy (%): (0.03, 99.01)\n",
      "Epoch 7 Test set loss, accuracy (%): (0.03, 99.01)\n",
      "Epoch 8 Test set loss, accuracy (%): (0.03, 98.92)\n",
      "Epoch 9 Test set loss, accuracy (%): (0.04, 98.80)\n",
      "Epoch 10 Test set loss, accuracy (%): (0.03, 99.04)\n",
      "Epoch 11 Test set loss, accuracy (%): (0.03, 99.05)\n",
      "Epoch 12 Test set loss, accuracy (%): (0.03, 99.05)\n",
      "Epoch 13 Test set loss, accuracy (%): (0.04, 98.90)\n",
      "Epoch 14 Test set loss, accuracy (%): (0.03, 99.06)\n",
      "Epoch 15 Test set loss, accuracy (%): (0.03, 99.20)\n",
      "Epoch 16 Test set loss, accuracy (%): (0.03, 99.19)\n",
      "Epoch 17 Test set loss, accuracy (%): (0.03, 99.18)\n",
      "Epoch 18 Test set loss, accuracy (%): (0.03, 99.17)\n",
      "Epoch 19 Test set loss, accuracy (%): (0.03, 99.19)\n",
      "Epoch 20 Test set loss, accuracy (%): (0.03, 99.16)\n",
      "Run 4\n",
      "Epoch 1 Test set loss, accuracy (%): (0.07, 97.79)\n",
      "Epoch 2 Test set loss, accuracy (%): (0.04, 98.63)\n",
      "Epoch 3 Test set loss, accuracy (%): (0.04, 98.80)\n",
      "Epoch 4 Test set loss, accuracy (%): (0.04, 98.83)\n",
      "Epoch 5 Test set loss, accuracy (%): (0.04, 98.78)\n",
      "Epoch 6 Test set loss, accuracy (%): (0.03, 99.09)\n",
      "Epoch 7 Test set loss, accuracy (%): (0.03, 99.01)\n",
      "Epoch 8 Test set loss, accuracy (%): (0.03, 99.01)\n",
      "Epoch 9 Test set loss, accuracy (%): (0.04, 98.63)\n",
      "Epoch 10 Test set loss, accuracy (%): (0.03, 99.17)\n",
      "Epoch 11 Test set loss, accuracy (%): (0.04, 98.84)\n",
      "Epoch 12 Test set loss, accuracy (%): (0.05, 98.70)\n",
      "Epoch 13 Test set loss, accuracy (%): (0.05, 98.66)\n",
      "Epoch 14 Test set loss, accuracy (%): (0.03, 98.98)\n",
      "Epoch 15 Test set loss, accuracy (%): (0.03, 99.14)\n",
      "Epoch 16 Test set loss, accuracy (%): (0.03, 99.13)\n",
      "Epoch 17 Test set loss, accuracy (%): (0.03, 99.14)\n",
      "Epoch 18 Test set loss, accuracy (%): (0.03, 99.12)\n",
      "Epoch 19 Test set loss, accuracy (%): (0.03, 99.06)\n",
      "Epoch 20 Test set loss, accuracy (%): (0.03, 99.12)\n",
      "Run 5\n",
      "Epoch 1 Test set loss, accuracy (%): (0.07, 97.96)\n",
      "Epoch 2 Test set loss, accuracy (%): (0.04, 98.52)\n",
      "Epoch 3 Test set loss, accuracy (%): (0.04, 98.77)\n",
      "Epoch 4 Test set loss, accuracy (%): (0.03, 98.98)\n",
      "Epoch 5 Test set loss, accuracy (%): (0.03, 98.90)\n",
      "Epoch 6 Test set loss, accuracy (%): (0.03, 99.01)\n",
      "Epoch 7 Test set loss, accuracy (%): (0.03, 99.03)\n",
      "Epoch 8 Test set loss, accuracy (%): (0.03, 99.07)\n",
      "Epoch 9 Test set loss, accuracy (%): (0.03, 98.85)\n",
      "Epoch 10 Test set loss, accuracy (%): (0.03, 99.16)\n",
      "Epoch 11 Test set loss, accuracy (%): (0.05, 98.65)\n",
      "Epoch 12 Test set loss, accuracy (%): (0.05, 98.62)\n",
      "Epoch 13 Test set loss, accuracy (%): (0.04, 98.85)\n",
      "Epoch 14 Test set loss, accuracy (%): (0.03, 98.95)\n",
      "Epoch 15 Test set loss, accuracy (%): (0.03, 99.22)\n",
      "Epoch 16 Test set loss, accuracy (%): (0.03, 99.15)\n",
      "Epoch 17 Test set loss, accuracy (%): (0.03, 99.22)\n",
      "Epoch 18 Test set loss, accuracy (%): (0.03, 99.24)\n",
      "Epoch 19 Test set loss, accuracy (%): (0.03, 99.19)\n",
      "Epoch 20 Test set loss, accuracy (%): (0.03, 99.20)\n",
      "Test Set Mean Accuracy over 5 runs: 0.9912800192832947, Standard Deviation: 0.0007359322044067085\n"
     ]
    }
   ],
   "source": [
    "num_epochs = 20\n",
    "batch_size = 128\n",
    "test_acc_list = []\n",
    "num_complete_batches, leftover = divmod(num_train, batch_size)\n",
    "num_batches = num_complete_batches + bool(leftover)\n",
    "def data_stream():\n",
    "  rng = npr.RandomState(0)\n",
    "  while True:\n",
    "    perm = rng.permutation(num_train)\n",
    "    for i in range(num_batches):\n",
    "      batch_idx = perm[i * batch_size:(i + 1) * batch_size]\n",
    "      yield train_images[batch_idx], train_labels[batch_idx]\n",
    "\n",
    "for runs in range(1,6):\n",
    "  print('Run {}'.format(runs))\n",
    "  batches = data_stream()\n",
    "\n",
    "  key = random.PRNGKey(123)\n",
    "  _, init_params = init_random_params(key, (-1, 28, 28, 1))\n",
    "  opt_state = opt_init(init_params)\n",
    "  itercount = itertools.count()\n",
    "\n",
    "  for epoch in range(1, num_epochs + 1):\n",
    "    for _ in range(num_batches):\n",
    "      opt_state = update(key, next(itercount), opt_state, shape_as_image(*next(batches)))\n",
    "\n",
    "    params = get_params(opt_state)\n",
    "    test_acc = accuracy(params, shape_as_image(test_images, test_labels))\n",
    "    test_loss = loss(params, shape_as_image(test_images, test_labels))\n",
    "    print('Epoch {} Test set loss, accuracy (%): ({:.2f}, {:.2f})'.format(epoch, test_loss, 100 * test_acc))\n",
    "  test_acc_list.append(test_acc)\n",
    "mean_accuracy, std_accuracy = np.mean(np.array(test_acc_list)), np.std(np.array(test_acc_list))\n",
    "print('Test Set Mean Accuracy over 5 runs: {}, Standard Deviation: {}'.format(mean_accuracy, std_accuracy))"
   ]
  },
  {
   "cell_type": "markdown",
   "metadata": {
    "colab_type": "text",
    "id": "ZyHfiRJAkhUa"
   },
   "source": [
    "### **Adversarial Example**"
   ]
  },
  {
   "cell_type": "markdown",
   "metadata": {
    "colab_type": "text",
    "id": "03wxHKPJYzII"
   },
   "source": [
    "#### **1.1**"
   ]
  },
  {
   "cell_type": "code",
   "execution_count": 0,
   "metadata": {
    "colab": {},
    "colab_type": "code",
    "id": "z66TcOFFsgb5"
   },
   "outputs": [],
   "source": [
    "class_7_index = test_labels.tolist().index([0,0,0,0,0,0,0,1,0,0])\n",
    "class_7_sample = test_images[class_7_index]\n",
    "class_7_target = test_labels[class_7_index]\n",
    "params_adv = params"
   ]
  },
  {
   "cell_type": "code",
   "execution_count": 0,
   "metadata": {
    "colab": {},
    "colab_type": "code",
    "id": "-wMrmKQg4eX-"
   },
   "outputs": [],
   "source": [
    "def loss_adv(inputs, targets):\n",
    "  inputs_adv, targets_adv = shape_as_image(inputs,targets)\n",
    "  logits = predict(params_adv, inputs_adv)\n",
    "  preds = stax.logsoftmax(logits)\n",
    "  return -np.mean(np.sum(preds * targets_adv, axis=1))"
   ]
  },
  {
   "cell_type": "code",
   "execution_count": 0,
   "metadata": {
    "colab": {},
    "colab_type": "code",
    "id": "BBtHz0jGmHRi"
   },
   "outputs": [],
   "source": [
    "def accuracy_adv(inputs, targets):\n",
    "  inputs_adv, targets_adv = shape_as_image(inputs,targets)\n",
    "  target_class = np.argmax(targets_adv, axis=1)\n",
    "  predicted_class = np.argmax(predict(params_adv, inputs_adv), axis=1)\n",
    "  return np.mean(predicted_class == target_class)"
   ]
  },
  {
   "cell_type": "code",
   "execution_count": 0,
   "metadata": {
    "colab": {},
    "colab_type": "code",
    "id": "FJrVyCChoBzh"
   },
   "outputs": [],
   "source": [
    "@jit\n",
    "def adversarial(inputs, targets, epsilon):\n",
    "  sign = np.sign(grad(loss_adv, 0)(inputs, targets))\n",
    "  inputs_adv = inputs + epsilon * sign\n",
    "  return inputs_adv"
   ]
  },
  {
   "cell_type": "code",
   "execution_count": 0,
   "metadata": {
    "colab": {},
    "colab_type": "code",
    "id": "vhyqRxUp0F4P"
   },
   "outputs": [],
   "source": [
    "X_adv = adversarial(class_7_sample, class_7_target, 0.3)"
   ]
  },
  {
   "cell_type": "code",
   "execution_count": 24,
   "metadata": {
    "colab": {
     "base_uri": "https://localhost:8080/",
     "height": 265
    },
    "colab_type": "code",
    "id": "HBFwQnJ5JAgW",
    "outputId": "c2a3d855-e701-40d6-c116-b874962b2a7f"
   },
   "outputs": [
    {
     "data": {
      "image/png": "[encoded data removed]",
      "text/plain": [
       "<Figure size 432x288 with 1 Axes>"
      ]
     },
     "metadata": {
      "tags": []
     },
     "output_type": "display_data"
    }
   ],
   "source": [
    "plt.imshow(X_adv.reshape(28,28), \"Greys\")\n",
    "plt.show()"
   ]
  },
  {
   "cell_type": "code",
   "execution_count": 25,
   "metadata": {
    "colab": {
     "base_uri": "https://localhost:8080/",
     "height": 136
    },
    "colab_type": "code",
    "id": "RaYMRidYNJ50",
    "outputId": "e5565463-8583-4b1d-c217-f684af41f1e9"
   },
   "outputs": [
    {
     "name": "stdout",
     "output_type": "stream",
     "text": [
      "Perturbed Image Prediction Class: 9\n",
      "Perturbed Image Prediction Vector: [[-2.8357334  -7.723143    0.42623523  8.071236    2.6191313   2.690835\n",
      "  -8.031288   -3.440468    0.01249908 10.991759  ]]\n",
      "\n",
      "Original Image Prediction Class: 7\n",
      "Original Image Prediction Vector: [[ -6.7980375  -5.4591374  -5.331287    2.1811926   4.769041   -4.2674613\n",
      "  -17.026028   18.781813   -1.3789768   4.566512 ]]\n"
     ]
    }
   ],
   "source": [
    "inputs_adv, targets_adv = shape_as_image(X_adv, class_7_target)\n",
    "inputs_original, targets_original = shape_as_image(class_7_sample, class_7_target)\n",
    "logits_adv = predict(params_adv, inputs_adv)\n",
    "logits_original = predict(params_adv, inputs_original)\n",
    "logits_adv_class = np.argmax(logits_adv)\n",
    "logits_original_class = np.argmax(logits_original)\n",
    "print('Perturbed Image Prediction Class:', logits_adv_class)\n",
    "print('Perturbed Image Prediction Vector:', logits_adv)\n",
    "print('')\n",
    "print('Original Image Prediction Class:', logits_original_class)\n",
    "print('Original Image Prediction Vector:', logits_original)"
   ]
  },
  {
   "cell_type": "markdown",
   "metadata": {
    "colab_type": "text",
    "id": "5fQtSeLpY_lN"
   },
   "source": [
    "#### **1.2**"
   ]
  },
  {
   "cell_type": "code",
   "execution_count": 0,
   "metadata": {
    "colab": {},
    "colab_type": "code",
    "id": "1CDTaWfjaQ1D"
   },
   "outputs": [],
   "source": [
    "num_test = test_images.shape[0]\n",
    "npr.seed(0)\n",
    "ran_index = npr.choice(num_test, size = 1000, replace=False) #1000 random index\n",
    "ran_1000_sample = test_images[ran_index]\n",
    "ran_1000_target = test_labels[ran_index]"
   ]
  },
  {
   "cell_type": "code",
   "execution_count": 0,
   "metadata": {
    "colab": {},
    "colab_type": "code",
    "id": "7hqduafrWaxX"
   },
   "outputs": [],
   "source": [
    "avg_accuracy = []\n",
    "for epsilon in np.arange(0.0, 1.0, 0.01):\n",
    "  X_1000_adv = adversarial(ran_1000_sample, ran_1000_target, epsilon)\n",
    "  accuracy = accuracy_adv(X_1000_adv, ran_1000_target)\n",
    "  avg_accuracy.append(accuracy)\n",
    "epsilon_list = np.arange(0.0, 1.0, 0.01)"
   ]
  },
  {
   "cell_type": "code",
   "execution_count": 28,
   "metadata": {
    "colab": {
     "base_uri": "https://localhost:8080/",
     "height": 295
    },
    "colab_type": "code",
    "id": "fN6gmnLjr_wQ",
    "outputId": "403a9c35-36cf-4eae-9481-8c7e542afc12"
   },
   "outputs": [
    {
     "data": {
      "image/png": "[encoded data removed]",
      "text/plain": [
       "<Figure size 432x288 with 1 Axes>"
      ]
     },
     "metadata": {
      "tags": []
     },
     "output_type": "display_data"
    }
   ],
   "source": [
    "plt.plot(epsilon_list, avg_accuracy)\n",
    "plt.xlabel('Epsilon Value')\n",
    "plt.ylabel('Accuracy')\n",
    "plt.title('Average Accuracy vs Epsilon for Adversarial Example')\n",
    "plt.show()"
   ]
  },
  {
   "cell_type": "markdown",
   "metadata": {
    "colab_type": "text",
    "id": "-AYQKWAfZDJ8"
   },
   "source": [
    "#### **1.3**"
   ]
  },
  {
   "cell_type": "code",
   "execution_count": 0,
   "metadata": {
    "colab": {},
    "colab_type": "code",
    "id": "GHaQzW1lyuZQ"
   },
   "outputs": [],
   "source": [
    "def adversarial_revised(inputs, targets, epsilon, k):\n",
    "  inputs_adv_list = []\n",
    "  inputs_adv = inputs\n",
    "  for i in range(k):\n",
    "    sign = np.sign(grad(loss_adv, 0)(inputs_adv, targets))\n",
    "    inputs_adv = inputs_adv + epsilon/k * sign\n",
    "    inputs_adv_list.append(inputs_adv)\n",
    "  return inputs_adv, inputs_adv_list\n",
    "#jit(adversarial_revised, static_argnums=3)"
   ]
  },
  {
   "cell_type": "code",
   "execution_count": 30,
   "metadata": {
    "colab": {
     "base_uri": "https://localhost:8080/",
     "height": 460
    },
    "colab_type": "code",
    "id": "_MzR-vxB5jSz",
    "outputId": "7b0e8c9e-152c-44be-b829-8ea3a7fb50a9"
   },
   "outputs": [
    {
     "name": "stdout",
     "output_type": "stream",
     "text": [
      "Original Image Prediction Vector: [[ -6.7980375  -5.4591374  -5.331287    2.1811926   4.769041   -4.2674613\n",
      "  -17.026028   18.781813   -1.3789768   4.566512 ]]\n",
      "Perturbed Image Prediction Vector after 1 iterations: [[ -4.8582845  -5.529512   -4.4499054   3.2185984   5.248622   -2.3685908\n",
      "  -14.893051   12.801319   -1.0406313   5.8102403]]\n",
      "Perturbed Image Prediction Vector after 2 iterations: [[ -3.6839628   -5.721661    -4.928754     4.433901     4.814066\n",
      "    0.02067301 -12.928602     7.171615    -1.4109999    9.582454  ]]\n",
      "Perturbed Image Prediction Vector after 3 iterations: [[ -3.0068932  -6.2518663  -5.970408    5.3858147   3.9574175   1.9737016\n",
      "  -11.3912325   3.1302977  -1.6996782  13.239963 ]]\n",
      "Perturbed Image Prediction Vector after 4 iterations: [[ -2.0413969   -6.417049    -6.3828645    4.7672844    2.823607\n",
      "    3.2959278  -10.721221     0.08200983  -1.6897302   17.004997  ]]\n",
      "Perturbed Image Prediction Vector after 5 iterations: [[-2.4071589 -7.9372315 -6.013561   4.091876   2.4275885  5.4394755\n",
      "  -9.915274  -4.339288  -2.4611623 20.145176 ]]\n"
     ]
    },
    {
     "data": {
      "image/png": "[encoded data removed]",
      "text/plain": [
       "<Figure size 1440x720 with 5 Axes>"
      ]
     },
     "metadata": {
      "tags": []
     },
     "output_type": "display_data"
    }
   ],
   "source": [
    "print('Original Image Prediction Vector:', logits_original)\n",
    "plt.figure(figsize=(20, 10))\n",
    "for i in range(5):\n",
    "  X_adv_revised = adversarial_revised(class_7_sample, class_7_target, 0.3, 5)[1][i]\n",
    "  inputs_adv_revised, targets_adv_revised = shape_as_image(X_adv_revised, class_7_target)\n",
    "  logits_adv_class_revised = np.argmax(predict(params_adv, inputs_adv_revised))\n",
    "  plt.subplot(1, 5, i+1)\n",
    "  plt.title('Perturbed Class after {} iterations:{}'.format(i+1, logits_adv_class_revised))\n",
    "  plt.imshow(X_adv_revised.reshape(28,28), \"Greys\")\n",
    "  print('Perturbed Image Prediction Vector after {} iterations:'.format(i+1), predict(params_adv, inputs_adv_revised))"
   ]
  },
  {
   "cell_type": "markdown",
   "metadata": {
    "colab_type": "text",
    "id": "t8v2SuVln9ZJ"
   },
   "source": [
    "#### **1.4**"
   ]
  },
  {
   "cell_type": "code",
   "execution_count": 0,
   "metadata": {
    "colab": {},
    "colab_type": "code",
    "id": "DMNPH6Psorof"
   },
   "outputs": [],
   "source": [
    "npr.seed(0)\n",
    "ran_index_revised = npr.choice(num_test, size = 1000, replace=False) #1000 random index\n",
    "ran_1000_sample_revised = test_images[ran_index]\n",
    "ran_1000_target_revised = test_labels[ran_index]"
   ]
  },
  {
   "cell_type": "code",
   "execution_count": 0,
   "metadata": {
    "colab": {},
    "colab_type": "code",
    "id": "lkEpLEvxosZN"
   },
   "outputs": [],
   "source": [
    "avg_accuracy_revised = []\n",
    "for epsilon in np.arange(0, 1, 0.01):\n",
    "  X_1000_adv_revised = adversarial_revised(ran_1000_sample, ran_1000_target, epsilon, 5)[0]\n",
    "  accuracy_revised = accuracy_adv(X_1000_adv_revised, ran_1000_target_revised)\n",
    "  avg_accuracy_revised.append(accuracy_revised)\n",
    "epsilon_list_revised = np.arange(0, 1, 0.01)"
   ]
  },
  {
   "cell_type": "code",
   "execution_count": 33,
   "metadata": {
    "colab": {
     "base_uri": "https://localhost:8080/",
     "height": 295
    },
    "colab_type": "code",
    "id": "RfDbpS1couuC",
    "outputId": "31cbf817-c806-4120-b400-70e3a0be1a15"
   },
   "outputs": [
    {
     "data": {
      "image/png": "[encoded data removed]",
      "text/plain": [
       "<Figure size 432x288 with 1 Axes>"
      ]
     },
     "metadata": {
      "tags": []
     },
     "output_type": "display_data"
    }
   ],
   "source": [
    "plt.plot(epsilon_list_revised, avg_accuracy_revised)\n",
    "plt.xlabel('Epsilon')\n",
    "plt.ylabel('Accuracy')\n",
    "plt.title('Average Accuracy vs Epsilon for Adversarial Example for k=5')\n",
    "plt.show()"
   ]
  }
 ],
 "metadata": {
  "accelerator": "GPU",
  "colab": {
   "collapsed_sections": [],
   "name": "ECE1513H_Assignment_5_Junxi_Xu.ipynb",
   "provenance": []
  },
  "kernelspec": {
   "display_name": "Python 3",
   "language": "python",
   "name": "python3"
  },
  "language_info": {
   "codemirror_mode": {
    "name": "ipython",
    "version": 3
   },
   "file_extension": ".py",
   "mimetype": "text/x-python",
   "name": "python",
   "nbconvert_exporter": "python",
   "pygments_lexer": "ipython3",
   "version": "3.7.4"
  }
 },
 "nbformat": 4,
 "nbformat_minor": 1
}
